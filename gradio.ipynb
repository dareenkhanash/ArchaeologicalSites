{
 "cells": [
  {
   "cell_type": "code",
   "execution_count": 17,
   "metadata": {},
   "outputs": [
    {
     "name": "stdout",
     "output_type": "stream",
     "text": [
      "Running on local URL:  http://127.0.0.1:7876\n",
      "Running on public URL: https://13b0e67fffe19c92a5.gradio.live\n",
      "\n",
      "This share link expires in 72 hours. For free permanent hosting and GPU upgrades, run `gradio deploy` from Terminal to deploy to Spaces (https://huggingface.co/spaces)\n"
     ]
    },
    {
     "data": {
      "text/html": [
       "<div><iframe src=\"https://13b0e67fffe19c92a5.gradio.live\" width=\"100%\" height=\"500\" allow=\"autoplay; camera; microphone; clipboard-read; clipboard-write;\" frameborder=\"0\" allowfullscreen></iframe></div>"
      ],
      "text/plain": [
       "<IPython.core.display.HTML object>"
      ]
     },
     "metadata": {},
     "output_type": "display_data"
    },
    {
     "data": {
      "text/plain": []
     },
     "execution_count": 17,
     "metadata": {},
     "output_type": "execute_result"
    },
    {
     "name": "stdout",
     "output_type": "stream",
     "text": [
      "1/1 [==============================] - 1s 1s/step\n"
     ]
    }
   ],
   "source": [
    "import gradio as gr\n",
    "from keras.models import load_model\n",
    "import cv2\n",
    "import numpy as np\n",
    "from keras.preprocessing.image import img_to_array\n",
    "from keras.applications import *\n",
    "\n",
    "# Function to load the model based on selection\n",
    "def load_model_and_predict(model_name, image):\n",
    "    if model_name == \"InceptionV3\":\n",
    "        model_inception = load_model('./models/inceptionV3_model_30.h5') \n",
    "        return test_single_image_inception(model_inception, image)\n",
    "    if model_name == \"ResNet\":\n",
    "        model_resnet = load_model('./models/resnet_model_30.h5')\n",
    "        return test_single_image_resnet(model_resnet, image)\n",
    "    if model_name == \"VGGNet\":\n",
    "        model_vgg = load_model('./models/vgg_model_30.h5')\n",
    "        return test_single_image_vgg(model_vgg, image)\n",
    "    if model_name == \"EfficientNet\":\n",
    "        model_eff = load_model('./models/efficientnet_model_30.h5')\n",
    "        return test_single_image_effecient(model_eff, image)\n",
    "\n",
    "\n",
    "def test_single_image_inception(model, test_image, target_size=(299, 299)):\n",
    "    classes = [\"Ajloun\", \"Jerash\", \"Petra\", \"RomanAmphitheater\", \"UmmQais\", \"WadiRum\"]  \n",
    "\n",
    "    image_array_resized = cv2.resize(test_image, target_size)\n",
    "    test_image_array = img_to_array(image_array_resized)\n",
    "    test_image_array = test_image_array / 255.0\n",
    "    test_image_array = np.expand_dims(test_image_array, axis=0)\n",
    "\n",
    "    predictions = model.predict(test_image_array)\n",
    "    predicted_class_index = np.argmax(predictions)\n",
    "    \n",
    "    predicted_class = classes[predicted_class_index]\n",
    "    return predicted_class\n",
    "   \n",
    "def test_single_image_effecient(model, test_image, target_size=(224, 224)):\n",
    "    label_to_site = {0: 'Roman_amphitheater',\n",
    "                    1: 'Petra',\n",
    "                    2: 'Umm_Qais',\n",
    "                    3: 'Jerash',\n",
    "                    4: 'WadiRum',\n",
    "                    5: 'Ajloun'}     \n",
    "\n",
    "    image_array_resized = cv2.resize(test_image, target_size)\n",
    "    test_image_array = img_to_array(image_array_resized)\n",
    "    test_image_array = np.expand_dims(test_image_array, axis=0)\n",
    "    test_image_array = efficientnet.preprocess_input(test_image_array)\n",
    "    predictions = model.predict(test_image_array)\n",
    "    predicted_class_index = np.argmax(predictions)\n",
    "    predicted_class = label_to_site[predicted_class_index]\n",
    "    return predicted_class\n",
    "\n",
    "def test_single_image_resnet(model, test_image, target_size=(224, 224)):\n",
    "    label_to_site = {0: 'Roman_amphitheater',\n",
    "                1: 'Petra',\n",
    "                2: 'Umm_Qais',\n",
    "                3: 'Jerash',\n",
    "                4: 'WadiRum',\n",
    "                5: 'Ajloun'}     \n",
    "\n",
    "    image_array_resized = cv2.resize(test_image, target_size)\n",
    "    test_image_array = img_to_array(image_array_resized)\n",
    "    test_image_array = np.expand_dims(test_image_array, axis=0)\n",
    "    test_image_array = resnet50.preprocess_input(test_image_array)\n",
    "    predictions = model.predict(test_image_array)\n",
    "    predicted_class_index = np.argmax(predictions)\n",
    "    predicted_class = label_to_site[predicted_class_index]\n",
    "\n",
    "    return predicted_class\n",
    "\n",
    "def test_single_image_vgg(model, test_image, target_size=(224, 224)):\n",
    "    label_to_site = {0: 'Roman_amphitheater',\n",
    "                1: 'Petra',\n",
    "                2: 'Umm_Qais',\n",
    "                3: 'Jerash',\n",
    "                4: 'WadiRum',\n",
    "                5: 'Ajloun'}     \n",
    "\n",
    "    image_array_resized = cv2.resize(test_image, target_size)\n",
    "    test_image_array = img_to_array(image_array_resized)\n",
    "    test_image_array = np.expand_dims(test_image_array, axis=0)\n",
    "    test_image_array = vgg16.preprocess_input(test_image_array)\n",
    "    predictions = model.predict(test_image_array)\n",
    "    predicted_class_index = np.argmax(predictions)\n",
    "    predicted_class = label_to_site[predicted_class_index]\n",
    "\n",
    "    return predicted_class\n",
    "\n",
    "\n",
    "# Define the Gradio Interface\n",
    "iface = gr.Interface(\n",
    "    fn=load_model_and_predict,\n",
    "    inputs=[gr.Dropdown([\"InceptionV3\", \"EfficientNet\", \"ResNet\", \"VGGNet\"]), gr.Image()],\n",
    "    outputs=\"text\"\n",
    ")\n",
    "\n",
    "# Launch the interface\n",
    "iface.launch(share=True)\n"
   ]
  }
 ],
 "metadata": {
  "kernelspec": {
   "display_name": ".venv",
   "language": "python",
   "name": "python3"
  },
  "language_info": {
   "codemirror_mode": {
    "name": "ipython",
    "version": 3
   },
   "file_extension": ".py",
   "mimetype": "text/x-python",
   "name": "python",
   "nbconvert_exporter": "python",
   "pygments_lexer": "ipython3",
   "version": "3.11.5"
  }
 },
 "nbformat": 4,
 "nbformat_minor": 2
}
